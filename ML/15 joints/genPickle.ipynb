{
 "cells": [
  {
   "cell_type": "code",
   "execution_count": 12,
   "metadata": {},
   "outputs": [],
   "source": [
    "import h5py\n",
    "import numpy as np\n",
    "import re# 用于正则表达式的匹配操作，在问别人能解析、复杂字符串分析、信息提取是一个很有用的工具\n",
    "import os # os是python的系统编程的操作模块，可以处理文件和目录\n",
    "import pandas as pd #Pandas是Python下一个开源数据分析的\n",
    "import pickle"
   ]
  },
  {
   "cell_type": "code",
   "execution_count": 13,
   "metadata": {},
   "outputs": [],
   "source": [
    "number_joint = 14\n",
    "# number_column = number_joint*2 # 14 joint * 3(x,y,z)    # 90-2(delete 85,86)\n",
    "\n",
    "select_column = []\n",
    "for i in range(number_joint): # 14 body join( except waist)\n",
    "    select_column.append(1 + 6*i) # select x    \n",
    "    select_column.append(3 + 6*i) # select z \n",
    "    select_column.append(2 + 6*i) # select y"
   ]
  },
  {
   "cell_type": "code",
   "execution_count": 14,
   "metadata": {},
   "outputs": [],
   "source": [
    "def read_one_file(file_name):\n",
    "    with open(file_name,'r',encoding='utf-8') as f:\n",
    "        data_line = f.readlines()\n",
    "        #print('data',data)\n",
    "        data_temp = [] \n",
    "        index = 0\n",
    "        for j in data_line:\n",
    "            temp = re.findall(r\"-*\\d+\\.?\\d*\",j)\n",
    "            # print('1111111111111',temp)\n",
    "            if temp != []:\n",
    "                if index %16 == 0:\n",
    "                    data_temp.append([float(k) for k in temp])\n",
    "                else:\n",
    "                    data_temp[-1].extend([float(k) for k in temp])\n",
    "                index += 1\n",
    "        \n",
    "        # delete row that some data loss\n",
    "        for m in range(len(data_temp)):\n",
    "            data_temp[m] = np.array(data_temp[m])\n",
    "            if(data_temp[m].size) != 91:\n",
    "                del data_temp[m]\n",
    "                \n",
    "        data_one_file = np.array(data_temp)\n",
    "        return data_one_file[ : , select_column ] # [row, column]"
   ]
  },
  {
   "cell_type": "code",
   "execution_count": 15,
   "metadata": {},
   "outputs": [],
   "source": [
    "def walk2(dirname):\n",
    "    list_ = []\n",
    "    for root, dirs, files in os.walk(dirname):\n",
    "        for filename in files:\n",
    "            list_.append(os.path.join(root, filename))\n",
    "    return list_"
   ]
  },
  {
   "cell_type": "code",
   "execution_count": 16,
   "metadata": {},
   "outputs": [],
   "source": [
    "def create_dataset(type_data):\n",
    "    path = 'F:/Master Project/Dataset/Original/15 joint/'+type_data+'_set/' #\n",
    "    folder_list = ['拍球','投球','传球','其他动作']\n",
    "    foler_path_list = [(path + folder_name) for folder_name in folder_list]\n",
    "    \n",
    "    # loop all actions\n",
    "    x_data = []\n",
    "    y_data = []\n",
    "    \n",
    "    print(type_data)\n",
    "    for i,foler_path in enumerate(foler_path_list):\n",
    "        \n",
    "        list_file = walk2(foler_path) # recursion in that folder\n",
    "        print(\"  all file {:} : {:}\".format(folder_list[i],len(list_file)) )\n",
    "        \n",
    "        for j,file_name in enumerate(list_file):\n",
    "            data_one_file = read_one_file(file_name) # get numpy (frame, joint_num * joint_dimension)\n",
    "            x_data.append(data_one_file)\n",
    "            y_data.append(i)\n",
    "#             import ipdb; ipdb.set_trace()\n",
    "#             print(\"ddd\")\n",
    "            if j % 100 == 0:\n",
    "                print('    ',j)\n",
    "            \n",
    "    return x_data,y_data    \n",
    "    "
   ]
  },
  {
   "cell_type": "code",
   "execution_count": 19,
   "metadata": {},
   "outputs": [
    {
     "name": "stdout",
     "output_type": "stream",
     "text": [
      "test\n",
      "  all file 拍球 : 458\n",
      "     0\n",
      "     100\n",
      "     200\n",
      "     300\n",
      "     400\n",
      "  all file 投球 : 598\n",
      "     0\n",
      "     100\n",
      "     200\n",
      "     300\n",
      "     400\n",
      "     500\n",
      "  all file 传球 : 661\n",
      "     0\n",
      "     100\n",
      "     200\n",
      "     300\n",
      "     400\n",
      "     500\n",
      "     600\n",
      "  all file 其他动作 : 696\n",
      "     0\n",
      "     100\n",
      "     200\n",
      "     300\n",
      "     400\n",
      "     500\n",
      "     600\n",
      "finish!!\n"
     ]
    }
   ],
   "source": [
    "all_type_data = ['test'] #['train','test']\n",
    "path_save = \"F:/Master Project/Dataset/Extract_data/15 joints\"\n",
    "for type_data in all_type_data:\n",
    "    x_data,y_data = create_dataset(type_data)\n",
    "    \n",
    "    f_x = open(\"{:}/{:}_x.pickle\".format(path_save, type_data),'wb')\n",
    "    f_y = open(\"{:}/{:}_y.pickle\".format(path_save,type_data),'wb')\n",
    "    \n",
    "    pickle.dump(x_data,f_x)\n",
    "    pickle.dump(y_data,f_y)\n",
    "    \n",
    "    f_x.close()\n",
    "    f_y.close()\n",
    "\n",
    "print('finish!!')\n",
    "    \n",
    "#     with h5py.File(type_data+'.hdf5', 'w') as f:\n",
    "#         f.create_dataset('y_data', data=y_data)\n",
    "        \n",
    "#         group = f.create_group(\"x_data\")\n",
    "#         for i,data in enumerate(x_data):\n",
    "#             group.create_dataset(str(i), data=data)"
   ]
  },
  {
   "cell_type": "code",
   "execution_count": null,
   "metadata": {},
   "outputs": [],
   "source": [
    "# tet = {0:np.array([1,2]), 1:np.array([3,4])}"
   ]
  },
  {
   "cell_type": "code",
   "execution_count": null,
   "metadata": {},
   "outputs": [],
   "source": [
    "# with h5py.File(type_data+'.hdf5', 'w') as f:\n",
    "#         f.create_dataset('x_data', data=tet)\n",
    "#         f.create_dataset('y_data', data=[3,4]) "
   ]
  },
  {
   "cell_type": "code",
   "execution_count": null,
   "metadata": {},
   "outputs": [],
   "source": [
    "# type_data = 'train'\n",
    "# f_x = open(\"{:}_x.hdf5\".format(type_data),'rb')\n",
    "# f_y = open(\"{:}_y.hdf5\".format(type_data),'rb')\n",
    "\n",
    "# new_dict = pickle.load(f_x)\n",
    "# print(len(new_dict))"
   ]
  }
 ],
 "metadata": {
  "kernelspec": {
   "display_name": "Python 3",
   "language": "python",
   "name": "python3"
  },
  "language_info": {
   "codemirror_mode": {
    "name": "ipython",
    "version": 3
   },
   "file_extension": ".py",
   "mimetype": "text/x-python",
   "name": "python",
   "nbconvert_exporter": "python",
   "pygments_lexer": "ipython3",
   "version": "3.7.4"
  }
 },
 "nbformat": 4,
 "nbformat_minor": 2
}
