{
 "cells": [
  {
   "cell_type": "code",
   "execution_count": 1,
   "metadata": {},
   "outputs": [
    {
     "name": "stderr",
     "output_type": "stream",
     "text": [
      "Using TensorFlow backend.\n"
     ]
    }
   ],
   "source": [
    "from tensorflow.python.keras import Sequential\n",
    "from tensorflow.python.keras import regularizers\n",
    "from tensorflow.python.keras import optimizers\n",
    "from tensorflow.python.keras.layers import LSTM, CuDNNLSTM\n",
    "from tensorflow.python.keras.layers import Dense\n",
    "from tensorflow.python.keras.layers import Dropout\n",
    "from tensorflow.python.keras.utils import to_categorical\n",
    "from tensorflow.python.keras.callbacks import ModelCheckpoint\n",
    "import keras.metrics\n",
    "import numpy as np\n",
    "import pickle"
   ]
  },
  {
   "cell_type": "code",
   "execution_count": 2,
   "metadata": {},
   "outputs": [],
   "source": [
    "sequence_length = 15 # timestep"
   ]
  },
  {
   "cell_type": "code",
   "execution_count": 3,
   "metadata": {},
   "outputs": [],
   "source": [
    "path_save = \"Extract_data\"\n",
    "f_x = open(path_save+\"/train_x.pickle\",'rb')\n",
    "f_y = open(path_save+\"/train_y.pickle\",'rb')\n",
    "origin_train_x = pickle.load(f_x)\n",
    "train_y = pickle.load(f_y)\n",
    "\n",
    "f_x = open(path_save+\"/test_x.pickle\",'rb')\n",
    "f_y = open(path_save+\"/test_y.pickle\",'rb')\n",
    "origin_test_x = pickle.load(f_x)\n",
    "test_y = pickle.load(f_y)"
   ]
  },
  {
   "cell_type": "markdown",
   "metadata": {},
   "source": [
    "### Sampling Function"
   ]
  },
  {
   "cell_type": "code",
   "execution_count": 4,
   "metadata": {},
   "outputs": [],
   "source": [
    "def sampling_x(x, is_training):\n",
    "    \n",
    "    frames = x\n",
    "    \n",
    "    # Start index and sample interval for the test set\n",
    "    start_i, sample_interval = 0, len(frames) // sequence_length\n",
    "    if is_training:\n",
    "        # Randomly choose sample interval and start frame\n",
    "        sample_interval = np.random.randint(1, len(frames) // sequence_length + 1)\n",
    "        start_i = np.random.randint(0, len(frames) - sample_interval * sequence_length + 1)\n",
    "\n",
    "    # Extract frames as tensors\n",
    "    image_sequence = []\n",
    "    for i in range(start_i, len(frames), sample_interval):\n",
    "        # image_path = frames[i]\n",
    "        if len(image_sequence) < sequence_length:\n",
    "            image_sequence.append(frames[i])\n",
    "        else:\n",
    "            break\n",
    "    image_sequence = np.array(image_sequence)   \n",
    "    return image_sequence\n",
    "\n",
    "\n",
    "def reform_to_sequence(data_x, is_training):\n",
    "    \n",
    "    train_x = np.zeros((len(data_x), sequence_length, data_x[0].shape[-1]) ) #(len,timestep, 28)\n",
    "    for i,x in enumerate(data_x):\n",
    "        sequence = sampling_x(x, is_training)\n",
    "        train_x[i] = sequence       \n",
    "        \n",
    "    return train_x     \n"
   ]
  },
  {
   "cell_type": "markdown",
   "metadata": {},
   "source": [
    "### Model Define"
   ]
  },
  {
   "cell_type": "code",
   "execution_count": 5,
   "metadata": {},
   "outputs": [
    {
     "name": "stderr",
     "output_type": "stream",
     "text": [
      "WARNING: Logging before flag parsing goes to stderr.\n",
      "W0920 16:36:00.315918 140433912616768 deprecation.py:506] From /home/peachman/Documents/environments/action_reg/lib/python3.6/site-packages/tensorflow/python/ops/init_ops.py:1251: calling VarianceScaling.__init__ (from tensorflow.python.ops.init_ops) with dtype is deprecated and will be removed in a future version.\n",
      "Instructions for updating:\n",
      "Call initializer instance with the dtype argument instead of passing it to the constructor\n",
      "W0920 16:36:00.562067 140433912616768 nn_ops.py:4224] Large dropout rate: 0.6 (>0.5). In TensorFlow 2.x, dropout() uses dropout rate instead of keep_prob. Please ensure that this is intended.\n",
      "W0920 16:36:00.765580 140433912616768 nn_ops.py:4224] Large dropout rate: 0.6 (>0.5). In TensorFlow 2.x, dropout() uses dropout rate instead of keep_prob. Please ensure that this is intended.\n"
     ]
    }
   ],
   "source": [
    "number_feature = origin_train_x[0].shape[-1] # last index\n",
    "model = Sequential()\n",
    "model.add(CuDNNLSTM(50, input_shape=(sequence_length, number_feature),return_sequences=True))\n",
    "model.add(Dropout(0.6))#使用Dropout函数可以使模型有更多的机会学习到多种独立的表征\n",
    "model.add(CuDNNLSTM(50, input_shape=(sequence_length, number_feature)) )\n",
    "model.add(Dropout(0.6))\n",
    "model.add(Dense(4, activation='softmax'))\n",
    "sgd = optimizers.SGD(lr=0.1, momentum=0.0, decay=0.0, nesterov=False)\n",
    "model.compile(loss='sparse_categorical_crossentropy', optimizer='sgd', metrics=['accuracy'])\n",
    "filepath=\"weights-improvement-{epoch:02d}-{val_acc:.2f}.hdf5\"\n",
    "checkpoint = ModelCheckpoint(filepath, monitor='val_acc', verbose=1, save_best_only=True,)\n",
    "callbacks_list = [checkpoint]"
   ]
  },
  {
   "cell_type": "markdown",
   "metadata": {},
   "source": [
    "### Prepare Test Set"
   ]
  },
  {
   "cell_type": "code",
   "execution_count": 6,
   "metadata": {},
   "outputs": [],
   "source": [
    "test_x = reform_to_sequence(origin_test_x, is_training=False)"
   ]
  },
  {
   "cell_type": "markdown",
   "metadata": {},
   "source": [
    "### Train"
   ]
  },
  {
   "cell_type": "code",
   "execution_count": 7,
   "metadata": {},
   "outputs": [
    {
     "name": "stdout",
     "output_type": "stream",
     "text": [
      "epoch:  0\n",
      "Train on 5632 samples, validate on 2413 samples\n",
      "5568/5632 [============================>.] - ETA: 0s - loss: 1.1037 - acc: 0.5135\n",
      "Epoch 00001: val_acc improved from -inf to 0.79362, saving model to weights-improvement-01-0.79.hdf5\n",
      "5632/5632 [==============================] - 14s 3ms/sample - loss: 1.1004 - acc: 0.5158 - val_loss: 0.8055 - val_acc: 0.7936\n",
      "-----------------------\n",
      "epoch:  1\n",
      "Train on 5632 samples, validate on 2413 samples\n",
      "5600/5632 [============================>.] - ETA: 0s - loss: 0.8181 - acc: 0.6607\n",
      "Epoch 00001: val_acc improved from 0.79362 to 0.92872, saving model to weights-improvement-01-0.93.hdf5\n",
      "5632/5632 [==============================] - 2s 339us/sample - loss: 0.8164 - acc: 0.6619 - val_loss: 0.4561 - val_acc: 0.9287\n",
      "-----------------------\n",
      "epoch:  2\n",
      "Train on 5632 samples, validate on 2413 samples\n",
      "5568/5632 [============================>.] - ETA: 0s - loss: 0.6660 - acc: 0.7493\n",
      "Epoch 00001: val_acc improved from 0.92872 to 0.96395, saving model to weights-improvement-01-0.96.hdf5\n",
      "5632/5632 [==============================] - 2s 426us/sample - loss: 0.6658 - acc: 0.7502 - val_loss: 0.3772 - val_acc: 0.9639\n",
      "-----------------------\n",
      "epoch:  3\n",
      "Train on 5632 samples, validate on 2413 samples\n",
      "5408/5632 [===========================>..] - ETA: 0s - loss: 0.5805 - acc: 0.7814\n",
      "Epoch 00001: val_acc improved from 0.96395 to 0.98632, saving model to weights-improvement-01-0.99.hdf5\n",
      "5632/5632 [==============================] - 2s 274us/sample - loss: 0.5835 - acc: 0.7789 - val_loss: 0.1747 - val_acc: 0.9863\n",
      "-----------------------\n",
      "epoch:  4\n",
      "Train on 5632 samples, validate on 2413 samples\n",
      "5568/5632 [============================>.] - ETA: 0s - loss: 0.5408 - acc: 0.8010\n",
      "Epoch 00001: val_acc did not improve from 0.98632\n",
      "5632/5632 [==============================] - 2s 278us/sample - loss: 0.5395 - acc: 0.8022 - val_loss: 0.1914 - val_acc: 0.9780\n",
      "-----------------------\n",
      "epoch:  5\n",
      "Train on 5632 samples, validate on 2413 samples\n",
      "5600/5632 [============================>.] - ETA: 0s - loss: 0.5123 - acc: 0.8093\n",
      "Epoch 00001: val_acc improved from 0.98632 to 0.98964, saving model to weights-improvement-01-0.99.hdf5\n",
      "5632/5632 [==============================] - 2s 294us/sample - loss: 0.5118 - acc: 0.8097 - val_loss: 0.1158 - val_acc: 0.9896\n",
      "-----------------------\n",
      "epoch:  6\n",
      "Train on 5632 samples, validate on 2413 samples\n",
      "5568/5632 [============================>.] - ETA: 0s - loss: 0.4547 - acc: 0.8486\n",
      "Epoch 00001: val_acc did not improve from 0.98964\n",
      "5632/5632 [==============================] - 2s 298us/sample - loss: 0.4567 - acc: 0.8473 - val_loss: 0.9263 - val_acc: 0.7410\n",
      "-----------------------\n",
      "epoch:  7\n",
      "Train on 5632 samples, validate on 2413 samples\n",
      "5568/5632 [============================>.] - ETA: 0s - loss: 0.4451 - acc: 0.8443\n",
      "Epoch 00001: val_acc did not improve from 0.98964\n",
      "5632/5632 [==============================] - 2s 287us/sample - loss: 0.4437 - acc: 0.8452 - val_loss: 0.1142 - val_acc: 0.9668\n",
      "-----------------------\n",
      "epoch:  8\n",
      "Train on 5632 samples, validate on 2413 samples\n",
      "5408/5632 [===========================>..] - ETA: 0s - loss: 0.4162 - acc: 0.8569\n",
      "Epoch 00001: val_acc improved from 0.98964 to 0.99503, saving model to weights-improvement-01-1.00.hdf5\n",
      "5632/5632 [==============================] - 2s 295us/sample - loss: 0.4177 - acc: 0.8556 - val_loss: 0.0956 - val_acc: 0.9950\n",
      "-----------------------\n",
      "epoch:  9\n",
      "Train on 5632 samples, validate on 2413 samples\n",
      "5472/5632 [============================>.] - ETA: 0s - loss: 0.4251 - acc: 0.8469\n",
      "Epoch 00001: val_acc improved from 0.99503 to 0.99627, saving model to weights-improvement-01-1.00.hdf5\n",
      "5632/5632 [==============================] - 2s 326us/sample - loss: 0.4238 - acc: 0.8477 - val_loss: 0.0700 - val_acc: 0.9963\n",
      "-----------------------\n",
      "epoch:  10\n",
      "Train on 5632 samples, validate on 2413 samples\n",
      "5408/5632 [===========================>..] - ETA: 0s - loss: 0.3775 - acc: 0.8672\n",
      "Epoch 00001: val_acc did not improve from 0.99627\n",
      "5632/5632 [==============================] - 2s 293us/sample - loss: 0.3846 - acc: 0.8645 - val_loss: 0.0738 - val_acc: 0.9963\n",
      "-----------------------\n",
      "epoch:  11\n",
      "Train on 5632 samples, validate on 2413 samples\n",
      "5600/5632 [============================>.] - ETA: 0s - loss: 0.3436 - acc: 0.8839\n",
      "Epoch 00001: val_acc improved from 0.99627 to 0.99793, saving model to weights-improvement-01-1.00.hdf5\n",
      "5632/5632 [==============================] - 2s 299us/sample - loss: 0.3451 - acc: 0.8832 - val_loss: 0.1194 - val_acc: 0.9979\n",
      "-----------------------\n",
      "epoch:  12\n",
      "Train on 5632 samples, validate on 2413 samples\n",
      "5568/5632 [============================>.] - ETA: 0s - loss: 0.3703 - acc: 0.8750\n",
      "Epoch 00001: val_acc did not improve from 0.99793\n",
      "5632/5632 [==============================] - 2s 298us/sample - loss: 0.3697 - acc: 0.8754 - val_loss: 0.0549 - val_acc: 0.9975\n",
      "-----------------------\n",
      "epoch:  13\n",
      "Train on 5632 samples, validate on 2413 samples\n",
      "5536/5632 [============================>.] - ETA: 0s - loss: 0.3008 - acc: 0.8981\n",
      "Epoch 00001: val_acc improved from 0.99793 to 0.99876, saving model to weights-improvement-01-1.00.hdf5\n",
      "5632/5632 [==============================] - 2s 293us/sample - loss: 0.3001 - acc: 0.8983 - val_loss: 0.0360 - val_acc: 0.9988\n",
      "-----------------------\n",
      "epoch:  14\n",
      "Train on 5632 samples, validate on 2413 samples\n",
      "5536/5632 [============================>.] - ETA: 0s - loss: 0.2648 - acc: 0.9120\n",
      "Epoch 00001: val_acc improved from 0.99876 to 0.99917, saving model to weights-improvement-01-1.00.hdf5\n",
      "5632/5632 [==============================] - 2s 291us/sample - loss: 0.2657 - acc: 0.9116 - val_loss: 0.0224 - val_acc: 0.9992\n",
      "-----------------------\n",
      "epoch:  15\n",
      "Train on 5632 samples, validate on 2413 samples\n",
      "5600/5632 [============================>.] - ETA: 0s - loss: 0.2873 - acc: 0.9021\n",
      "Epoch 00001: val_acc did not improve from 0.99917\n",
      "5632/5632 [==============================] - 2s 295us/sample - loss: 0.2865 - acc: 0.9023 - val_loss: 0.0225 - val_acc: 0.9992\n",
      "-----------------------\n",
      "epoch:  16\n",
      "Train on 5632 samples, validate on 2413 samples\n",
      "5440/5632 [===========================>..] - ETA: 0s - loss: 0.2853 - acc: 0.9090\n",
      "Epoch 00001: val_acc did not improve from 0.99917\n",
      "5632/5632 [==============================] - 2s 310us/sample - loss: 0.2869 - acc: 0.9075 - val_loss: 0.0246 - val_acc: 0.9988\n",
      "-----------------------\n",
      "epoch:  17\n",
      "Train on 5632 samples, validate on 2413 samples\n",
      "5568/5632 [============================>.] - ETA: 0s - loss: 0.2328 - acc: 0.9264\n",
      "Epoch 00001: val_acc did not improve from 0.99917\n",
      "5632/5632 [==============================] - 2s 310us/sample - loss: 0.2324 - acc: 0.9263 - val_loss: 0.0178 - val_acc: 0.9988\n",
      "-----------------------\n",
      "epoch:  18\n",
      "Train on 5632 samples, validate on 2413 samples\n",
      "5504/5632 [============================>.] - ETA: 0s - loss: 0.2699 - acc: 0.9110\n",
      "Epoch 00001: val_acc did not improve from 0.99917\n",
      "5632/5632 [==============================] - 2s 276us/sample - loss: 0.2745 - acc: 0.9091 - val_loss: 0.0270 - val_acc: 0.9988\n",
      "-----------------------\n",
      "epoch:  19\n",
      "Train on 5632 samples, validate on 2413 samples\n",
      "5440/5632 [===========================>..] - ETA: 0s - loss: 0.2608 - acc: 0.9131\n",
      "Epoch 00001: val_acc did not improve from 0.99917\n",
      "5632/5632 [==============================] - 2s 271us/sample - loss: 0.2583 - acc: 0.9130 - val_loss: 0.0150 - val_acc: 0.9988\n",
      "-----------------------\n",
      "epoch:  20\n",
      "Train on 5632 samples, validate on 2413 samples\n",
      "5536/5632 [============================>.] - ETA: 0s - loss: 0.2106 - acc: 0.9267\n",
      "Epoch 00001: val_acc did not improve from 0.99917\n",
      "5632/5632 [==============================] - 2s 281us/sample - loss: 0.2091 - acc: 0.9276 - val_loss: 0.0127 - val_acc: 0.9992\n",
      "-----------------------\n",
      "epoch:  21\n",
      "Train on 5632 samples, validate on 2413 samples\n",
      "5504/5632 [============================>.] - ETA: 0s - loss: 0.2590 - acc: 0.9104\n",
      "Epoch 00001: val_acc did not improve from 0.99917\n",
      "5632/5632 [==============================] - 2s 321us/sample - loss: 0.2581 - acc: 0.9112 - val_loss: 0.0221 - val_acc: 0.9988\n",
      "-----------------------\n",
      "epoch:  22\n",
      "Train on 5632 samples, validate on 2413 samples\n",
      "5600/5632 [============================>.] - ETA: 0s - loss: 0.2358 - acc: 0.9180\n",
      "Epoch 00001: val_acc did not improve from 0.99917\n",
      "5632/5632 [==============================] - 2s 275us/sample - loss: 0.2349 - acc: 0.9185 - val_loss: 0.0209 - val_acc: 0.9971\n"
     ]
    },
    {
     "name": "stdout",
     "output_type": "stream",
     "text": [
      "-----------------------\n",
      "epoch:  23\n",
      "Train on 5632 samples, validate on 2413 samples\n",
      "5600/5632 [============================>.] - ETA: 0s - loss: 0.1877 - acc: 0.9368\n",
      "Epoch 00001: val_acc did not improve from 0.99917\n",
      "5632/5632 [==============================] - 1s 253us/sample - loss: 0.1877 - acc: 0.9368 - val_loss: 0.0604 - val_acc: 0.9793\n",
      "-----------------------\n",
      "epoch:  24\n",
      "Train on 5632 samples, validate on 2413 samples\n",
      "5600/5632 [============================>.] - ETA: 0s - loss: 0.1990 - acc: 0.9379\n",
      "Epoch 00001: val_acc did not improve from 0.99917\n",
      "5632/5632 [==============================] - 1s 251us/sample - loss: 0.2008 - acc: 0.9366 - val_loss: 0.1451 - val_acc: 0.9834\n",
      "-----------------------\n",
      "epoch:  25\n",
      "Train on 5632 samples, validate on 2413 samples\n",
      "5408/5632 [===========================>..] - ETA: 0s - loss: 0.2372 - acc: 0.9186\n",
      "Epoch 00001: val_acc did not improve from 0.99917\n",
      "5632/5632 [==============================] - 1s 251us/sample - loss: 0.2374 - acc: 0.9190 - val_loss: 0.0144 - val_acc: 0.9992\n",
      "-----------------------\n",
      "epoch:  26\n",
      "Train on 5632 samples, validate on 2413 samples\n",
      "5504/5632 [============================>.] - ETA: 0s - loss: 0.1752 - acc: 0.9408\n",
      "Epoch 00001: val_acc did not improve from 0.99917\n",
      "5632/5632 [==============================] - 2s 288us/sample - loss: 0.1758 - acc: 0.9402 - val_loss: 0.2764 - val_acc: 0.8164\n",
      "-----------------------\n",
      "epoch:  27\n",
      "Train on 5632 samples, validate on 2413 samples\n",
      "5568/5632 [============================>.] - ETA: 0s - loss: 0.2571 - acc: 0.9098\n",
      "Epoch 00001: val_acc did not improve from 0.99917\n",
      "5632/5632 [==============================] - 2s 283us/sample - loss: 0.2558 - acc: 0.9105 - val_loss: 0.0152 - val_acc: 0.9988\n",
      "-----------------------\n",
      "epoch:  28\n",
      "Train on 5632 samples, validate on 2413 samples\n",
      "5568/5632 [============================>.] - ETA: 0s - loss: 0.2202 - acc: 0.9237\n",
      "Epoch 00001: val_acc did not improve from 0.99917\n",
      "5632/5632 [==============================] - 2s 295us/sample - loss: 0.2224 - acc: 0.9228 - val_loss: 0.0274 - val_acc: 0.9921\n",
      "-----------------------\n",
      "epoch:  29\n",
      "Train on 5632 samples, validate on 2413 samples\n",
      "5504/5632 [============================>.] - ETA: 0s - loss: 0.1885 - acc: 0.9373\n",
      "Epoch 00001: val_acc did not improve from 0.99917\n",
      "5632/5632 [==============================] - 2s 339us/sample - loss: 0.1873 - acc: 0.9379 - val_loss: 0.0106 - val_acc: 0.9983\n",
      "-----------------------\n",
      "epoch:  30\n",
      "Train on 5632 samples, validate on 2413 samples\n",
      "2752/5632 [=============>................] - ETA: 0s - loss: 0.1833 - acc: 0.9360"
     ]
    },
    {
     "ename": "KeyboardInterrupt",
     "evalue": "",
     "output_type": "error",
     "traceback": [
      "\u001b[0;31m---------------------------------------------------------------------------\u001b[0m",
      "\u001b[0;31mKeyboardInterrupt\u001b[0m                         Traceback (most recent call last)",
      "\u001b[0;32m<ipython-input-7-e013b6598ac2>\u001b[0m in \u001b[0;36m<module>\u001b[0;34m\u001b[0m\n\u001b[1;32m      6\u001b[0m     \u001b[0mtrain_x\u001b[0m \u001b[0;34m=\u001b[0m \u001b[0mreform_to_sequence\u001b[0m\u001b[0;34m(\u001b[0m\u001b[0morigin_train_x\u001b[0m\u001b[0;34m,\u001b[0m \u001b[0mis_training\u001b[0m\u001b[0;34m=\u001b[0m\u001b[0;32mTrue\u001b[0m\u001b[0;34m)\u001b[0m\u001b[0;34m\u001b[0m\u001b[0;34m\u001b[0m\u001b[0m\n\u001b[1;32m      7\u001b[0m     model.fit(train_x, train_y, epochs=1,\n\u001b[0;32m----> 8\u001b[0;31m              validation_data=(test_x,test_y), callbacks=callbacks_list)\n\u001b[0m\u001b[1;32m      9\u001b[0m     \u001b[0mprint\u001b[0m\u001b[0;34m(\u001b[0m\u001b[0;34m\"-----------------------\"\u001b[0m\u001b[0;34m)\u001b[0m\u001b[0;34m\u001b[0m\u001b[0;34m\u001b[0m\u001b[0m\n\u001b[1;32m     10\u001b[0m \u001b[0;34m\u001b[0m\u001b[0m\n",
      "\u001b[0;32m~/Documents/environments/action_reg/lib/python3.6/site-packages/tensorflow/python/keras/engine/training.py\u001b[0m in \u001b[0;36mfit\u001b[0;34m(self, x, y, batch_size, epochs, verbose, callbacks, validation_split, validation_data, shuffle, class_weight, sample_weight, initial_epoch, steps_per_epoch, validation_steps, validation_freq, max_queue_size, workers, use_multiprocessing, **kwargs)\u001b[0m\n\u001b[1;32m    778\u001b[0m           \u001b[0mvalidation_steps\u001b[0m\u001b[0;34m=\u001b[0m\u001b[0mvalidation_steps\u001b[0m\u001b[0;34m,\u001b[0m\u001b[0;34m\u001b[0m\u001b[0;34m\u001b[0m\u001b[0m\n\u001b[1;32m    779\u001b[0m           \u001b[0mvalidation_freq\u001b[0m\u001b[0;34m=\u001b[0m\u001b[0mvalidation_freq\u001b[0m\u001b[0;34m,\u001b[0m\u001b[0;34m\u001b[0m\u001b[0;34m\u001b[0m\u001b[0m\n\u001b[0;32m--> 780\u001b[0;31m           steps_name='steps_per_epoch')\n\u001b[0m\u001b[1;32m    781\u001b[0m \u001b[0;34m\u001b[0m\u001b[0m\n\u001b[1;32m    782\u001b[0m   def evaluate(self,\n",
      "\u001b[0;32m~/Documents/environments/action_reg/lib/python3.6/site-packages/tensorflow/python/keras/engine/training_arrays.py\u001b[0m in \u001b[0;36mmodel_iteration\u001b[0;34m(model, inputs, targets, sample_weights, batch_size, epochs, verbose, callbacks, val_inputs, val_targets, val_sample_weights, shuffle, initial_epoch, steps_per_epoch, validation_steps, validation_freq, mode, validation_in_fit, prepared_feed_values_from_dataset, steps_name, **kwargs)\u001b[0m\n\u001b[1;32m    361\u001b[0m \u001b[0;34m\u001b[0m\u001b[0m\n\u001b[1;32m    362\u001b[0m         \u001b[0;31m# Get outputs.\u001b[0m\u001b[0;34m\u001b[0m\u001b[0;34m\u001b[0m\u001b[0;34m\u001b[0m\u001b[0m\n\u001b[0;32m--> 363\u001b[0;31m         \u001b[0mbatch_outs\u001b[0m \u001b[0;34m=\u001b[0m \u001b[0mf\u001b[0m\u001b[0;34m(\u001b[0m\u001b[0mins_batch\u001b[0m\u001b[0;34m)\u001b[0m\u001b[0;34m\u001b[0m\u001b[0;34m\u001b[0m\u001b[0m\n\u001b[0m\u001b[1;32m    364\u001b[0m         \u001b[0;32mif\u001b[0m \u001b[0;32mnot\u001b[0m \u001b[0misinstance\u001b[0m\u001b[0;34m(\u001b[0m\u001b[0mbatch_outs\u001b[0m\u001b[0;34m,\u001b[0m \u001b[0mlist\u001b[0m\u001b[0;34m)\u001b[0m\u001b[0;34m:\u001b[0m\u001b[0;34m\u001b[0m\u001b[0;34m\u001b[0m\u001b[0m\n\u001b[1;32m    365\u001b[0m           \u001b[0mbatch_outs\u001b[0m \u001b[0;34m=\u001b[0m \u001b[0;34m[\u001b[0m\u001b[0mbatch_outs\u001b[0m\u001b[0;34m]\u001b[0m\u001b[0;34m\u001b[0m\u001b[0;34m\u001b[0m\u001b[0m\n",
      "\u001b[0;32m~/Documents/environments/action_reg/lib/python3.6/site-packages/tensorflow/python/keras/backend.py\u001b[0m in \u001b[0;36m__call__\u001b[0;34m(self, inputs)\u001b[0m\n\u001b[1;32m   3290\u001b[0m \u001b[0;34m\u001b[0m\u001b[0m\n\u001b[1;32m   3291\u001b[0m     fetched = self._callable_fn(*array_vals,\n\u001b[0;32m-> 3292\u001b[0;31m                                 run_metadata=self.run_metadata)\n\u001b[0m\u001b[1;32m   3293\u001b[0m     \u001b[0mself\u001b[0m\u001b[0;34m.\u001b[0m\u001b[0m_call_fetch_callbacks\u001b[0m\u001b[0;34m(\u001b[0m\u001b[0mfetched\u001b[0m\u001b[0;34m[\u001b[0m\u001b[0;34m-\u001b[0m\u001b[0mlen\u001b[0m\u001b[0;34m(\u001b[0m\u001b[0mself\u001b[0m\u001b[0;34m.\u001b[0m\u001b[0m_fetches\u001b[0m\u001b[0;34m)\u001b[0m\u001b[0;34m:\u001b[0m\u001b[0;34m]\u001b[0m\u001b[0;34m)\u001b[0m\u001b[0;34m\u001b[0m\u001b[0;34m\u001b[0m\u001b[0m\n\u001b[1;32m   3294\u001b[0m     output_structure = nest.pack_sequence_as(\n",
      "\u001b[0;32m~/Documents/environments/action_reg/lib/python3.6/site-packages/tensorflow/python/client/session.py\u001b[0m in \u001b[0;36m__call__\u001b[0;34m(self, *args, **kwargs)\u001b[0m\n\u001b[1;32m   1456\u001b[0m         ret = tf_session.TF_SessionRunCallable(self._session._session,\n\u001b[1;32m   1457\u001b[0m                                                \u001b[0mself\u001b[0m\u001b[0;34m.\u001b[0m\u001b[0m_handle\u001b[0m\u001b[0;34m,\u001b[0m \u001b[0margs\u001b[0m\u001b[0;34m,\u001b[0m\u001b[0;34m\u001b[0m\u001b[0;34m\u001b[0m\u001b[0m\n\u001b[0;32m-> 1458\u001b[0;31m                                                run_metadata_ptr)\n\u001b[0m\u001b[1;32m   1459\u001b[0m         \u001b[0;32mif\u001b[0m \u001b[0mrun_metadata\u001b[0m\u001b[0;34m:\u001b[0m\u001b[0;34m\u001b[0m\u001b[0;34m\u001b[0m\u001b[0m\n\u001b[1;32m   1460\u001b[0m           \u001b[0mproto_data\u001b[0m \u001b[0;34m=\u001b[0m \u001b[0mtf_session\u001b[0m\u001b[0;34m.\u001b[0m\u001b[0mTF_GetBuffer\u001b[0m\u001b[0;34m(\u001b[0m\u001b[0mrun_metadata_ptr\u001b[0m\u001b[0;34m)\u001b[0m\u001b[0;34m\u001b[0m\u001b[0;34m\u001b[0m\u001b[0m\n",
      "\u001b[0;31mKeyboardInterrupt\u001b[0m: "
     ]
    }
   ],
   "source": [
    "num_epoch = 100\n",
    "\n",
    "for i_ep in range(num_epoch):\n",
    "    \n",
    "    print('epoch: ', i_ep)\n",
    "    train_x = reform_to_sequence(origin_train_x, is_training=True)\n",
    "    model.fit(train_x, train_y, epochs=1,\n",
    "             validation_data=(test_x,test_y), callbacks=callbacks_list)\n",
    "    print(\"-----------------------\")\n",
    "\n"
   ]
  },
  {
   "cell_type": "code",
   "execution_count": null,
   "metadata": {},
   "outputs": [],
   "source": []
  }
 ],
 "metadata": {
  "kernelspec": {
   "display_name": "Python 3",
   "language": "python",
   "name": "python3"
  },
  "language_info": {
   "codemirror_mode": {
    "name": "ipython",
    "version": 3
   },
   "file_extension": ".py",
   "mimetype": "text/x-python",
   "name": "python",
   "nbconvert_exporter": "python",
   "pygments_lexer": "ipython3",
   "version": "3.6.8"
  }
 },
 "nbformat": 4,
 "nbformat_minor": 2
}
