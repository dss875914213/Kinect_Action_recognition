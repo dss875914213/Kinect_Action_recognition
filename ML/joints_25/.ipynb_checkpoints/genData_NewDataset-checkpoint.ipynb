{
 "cells": [
  {
   "cell_type": "code",
   "execution_count": 1,
   "metadata": {},
   "outputs": [],
   "source": [
    "import numpy as np #相当于将numpy重命名为容易记忆的np，numpy是python的数值计算工具\n",
    "import re# 用于正则表达式的匹配操作，在问别人能解析、复杂字符串分析、信息提取是一个很有用的工具\n",
    "import os # os是python的系统编程的操作模块，可以处理文件和目录\n",
    "import pandas as pd #Pandas是Python下一个开源数据分析的\n",
    "from numpy.lib.format import open_memmap"
   ]
  },
  {
   "cell_type": "code",
   "execution_count": 2,
   "metadata": {},
   "outputs": [],
   "source": [
    "max_frame = 20\n",
    "number_joint = 25 #14\n",
    "number_column = number_joint*3 # 14 joint * 3(x,y,z)    # 90-2(delete 85,86)\n",
    "\n",
    "# choose_joints = np.array([4, 21, 9, 10, 11, 5, 6, 7, 17, 18, 19, 13, 14, 15 ]) - 1 # start from 0\n",
    "# select_column = []\n",
    "# for i in range(14): # 14 body join( except waist)\n",
    "#     select_column.append(0 + 3*choose_joints[i]) # select x\n",
    "#     select_column.append(1 + 3*choose_joints[i]) # select y\n",
    "#     select_column.append(2 + 3*choose_joints[i]) # select z (non use)"
   ]
  },
  {
   "cell_type": "code",
   "execution_count": 3,
   "metadata": {},
   "outputs": [],
   "source": [
    "def walk2(dirname):\n",
    "    list_ = []\n",
    "    for root, dirs, files in os.walk(dirname):\n",
    "        for filename in files:\n",
    "            list_.append(os.path.join(root, filename))\n",
    "    return list_\n",
    "\n",
    "def reshape_data(dir_):\n",
    "    \n",
    "    list_ = walk2(dir_)\n",
    "    data_total = []\n",
    "    \n",
    "    for i in list_:\n",
    "        with open(i,'r',encoding='utf-8') as f:\n",
    "            data = f.readlines()\n",
    "\n",
    "        ## extract data format\n",
    "        data_temp = [] \n",
    "        index = 0\n",
    "        for j in data:\n",
    "            temp = re.findall(r\"-*\\d+\\.?\\d*\",j)\n",
    "            # print('1111111111111',temp)\n",
    "            if temp != []:\n",
    "                if index %25 == 0:\n",
    "                    data_temp.append([float(k) for k in temp])\n",
    "                else:\n",
    "                    data_temp[-1].extend([float(k) for k in temp])\n",
    "                index += 1\n",
    "\n",
    "        ## choose frame\n",
    "        for m in range(len(data_temp)):\n",
    "            data = np.array(data_temp[m])\n",
    "            if(data.size) == 75:#3*25\n",
    "                data_total.append(data)\n",
    "\n",
    "    data_total=pd.DataFrame(data_total)\n",
    "\n",
    "#     import ipdb; ipdb.set_trace()\n",
    "#     data_total = data_total.loc[ : , select_column ] # [row, column]\n",
    "    \n",
    "    print('{} has been saved'.format(dir_))\n",
    "    return data_total"
   ]
  },
  {
   "cell_type": "code",
   "execution_count": 4,
   "metadata": {},
   "outputs": [],
   "source": [
    "type_data = 'test' #'train' # 'test'\n",
    "base_path = 'F:/Master Project/Dataset/Original/25 joints/'\n",
    "path = base_path + type_data+'_set/' #\n",
    "folder_list = ['拍球','投球','传球','站立']\n",
    "data_list = []\n",
    "\n",
    "for folder_name in folder_list:\n",
    "    data_list.append(path + folder_name)    \n",
    "    \n",
    "data_x = []\n",
    "data_y = []"
   ]
  },
  {
   "cell_type": "code",
   "execution_count": 5,
   "metadata": {},
   "outputs": [],
   "source": [
    "max_row = 1000000\n",
    "\n",
    "out_path = 'F:/Master Project/Dataset/Extract_data/25 joints'\n",
    "tmp_x = open_memmap(\n",
    "        '{}/tmp_x.npy'.format(out_path),\n",
    "        dtype='float32',    \n",
    "        mode='w+',\n",
    "        shape=(max_row, max_frame, number_column))\n",
    "\n",
    "tmp_y = open_memmap(\n",
    "        '{}/tmp_y.npy'.format(out_path),\n",
    "        dtype='float32',    \n",
    "        mode='w+',\n",
    "        shape=(max_row, ))"
   ]
  },
  {
   "cell_type": "code",
   "execution_count": 6,
   "metadata": {},
   "outputs": [
    {
     "name": "stdout",
     "output_type": "stream",
     "text": [
      "0\n",
      "F:/Master Project/Dataset/Original/25 joints/train_set/拍球 has been saved\n",
      "len: 257260\n",
      "1\n",
      "F:/Master Project/Dataset/Original/25 joints/train_set/投球 has been saved\n",
      "len: 515089\n",
      "2\n",
      "F:/Master Project/Dataset/Original/25 joints/train_set/传球 has been saved\n",
      "len: 710494\n",
      "3\n",
      "F:/Master Project/Dataset/Original/25 joints/train_set/站立 has been saved\n",
      "len: 912031\n"
     ]
    }
   ],
   "source": [
    "count_f = 0\n",
    "for i in range(len(data_list)):\n",
    "    print(i)\n",
    "    data = reshape_data(data_list[i])\n",
    "    data = np.array(data)\n",
    "\n",
    "    slide_window = np.zeros((max_frame, number_column))    \n",
    "    \n",
    "    for j in range(len(data)):\n",
    "#         a.extend(data.iloc[j,1:])\n",
    "        slide_window = slide_window[1:max_frame]\n",
    "        slide_window = np.append(slide_window, np.array([data[j]]), axis=0 )\n",
    "        tmp_x[count_f] = slide_window\n",
    "        tmp_y[count_f] = i\n",
    "        count_f += 1\n",
    "        \n",
    "#         data_x.append(slide_window)\n",
    "#         data_y.append(i)\n",
    "    print(\"len:\", count_f)\n",
    "    \n",
    "# data_x = np.array(data_x)\n",
    "# data_y = np.array(data_y)        \n"
   ]
  },
  {
   "cell_type": "code",
   "execution_count": 7,
   "metadata": {},
   "outputs": [],
   "source": [
    "fp_x = open_memmap(\n",
    "        '{}/{}_x.npy'.format(out_path, type_data),\n",
    "        dtype='float32',    \n",
    "        mode='w+',\n",
    "        shape=(count_f, max_frame, number_column))\n",
    "\n",
    "fp_y = open_memmap(\n",
    "        '{}/{}_y.npy'.format(out_path, type_data),\n",
    "        dtype='float32',    \n",
    "        mode='w+',\n",
    "        shape=(count_f, ))\n",
    "\n",
    "fp_x[:] = tmp_x[:count_f]\n",
    "fp_y[:] = tmp_y[:count_f]"
   ]
  },
  {
   "cell_type": "code",
   "execution_count": 8,
   "metadata": {},
   "outputs": [
    {
     "ename": "PermissionError",
     "evalue": "[WinError 32] The process cannot access the file because it is being used by another process: 'F:/Master Project/Dataset/Extract_data/25 joints/tmp_x.npy'",
     "output_type": "error",
     "traceback": [
      "\u001b[1;31m---------------------------------------------------------------------------\u001b[0m",
      "\u001b[1;31mPermissionError\u001b[0m                           Traceback (most recent call last)",
      "\u001b[1;32m<ipython-input-8-21f4ed167cd1>\u001b[0m in \u001b[0;36m<module>\u001b[1;34m\u001b[0m\n\u001b[0;32m      1\u001b[0m \u001b[1;32mimport\u001b[0m \u001b[0mos\u001b[0m\u001b[1;33m\u001b[0m\u001b[1;33m\u001b[0m\u001b[0m\n\u001b[1;32m----> 2\u001b[1;33m \u001b[0mos\u001b[0m\u001b[1;33m.\u001b[0m\u001b[0mremove\u001b[0m\u001b[1;33m(\u001b[0m\u001b[1;34m'{}/tmp_x.npy'\u001b[0m\u001b[1;33m.\u001b[0m\u001b[0mformat\u001b[0m\u001b[1;33m(\u001b[0m\u001b[0mout_path\u001b[0m\u001b[1;33m,\u001b[0m \u001b[0mtype_data\u001b[0m\u001b[1;33m)\u001b[0m\u001b[1;33m)\u001b[0m\u001b[1;33m\u001b[0m\u001b[1;33m\u001b[0m\u001b[0m\n\u001b[0m\u001b[0;32m      3\u001b[0m \u001b[0mos\u001b[0m\u001b[1;33m.\u001b[0m\u001b[0mremove\u001b[0m\u001b[1;33m(\u001b[0m\u001b[1;34m'{}/tmp_y.npy'\u001b[0m\u001b[1;33m.\u001b[0m\u001b[0mformat\u001b[0m\u001b[1;33m(\u001b[0m\u001b[0mout_path\u001b[0m\u001b[1;33m,\u001b[0m \u001b[0mtype_data\u001b[0m\u001b[1;33m)\u001b[0m\u001b[1;33m)\u001b[0m\u001b[1;33m\u001b[0m\u001b[1;33m\u001b[0m\u001b[0m\n",
      "\u001b[1;31mPermissionError\u001b[0m: [WinError 32] The process cannot access the file because it is being used by another process: 'F:/Master Project/Dataset/Extract_data/25 joints/tmp_x.npy'"
     ]
    }
   ],
   "source": [
    "import os\n",
    "os.remove('{}/tmp_x.npy'.format(out_path, type_data))\n",
    "os.remove('{}/tmp_y.npy'.format(out_path, type_data))"
   ]
  },
  {
   "cell_type": "code",
   "execution_count": null,
   "metadata": {},
   "outputs": [],
   "source": [
    "# out_path = 'Extract_Data'\n",
    "# import h5py\n",
    "# import time\n",
    "# start_time = time.time()\n",
    "\n",
    "# fp_x = open_memmap(\n",
    "#         '{}/{}_x.npy'.format(out_path, type_data),\n",
    "#         dtype='float32',    \n",
    "#         mode='w+',\n",
    "#         shape=(data_x.shape[0], max_frame, number_column))\n",
    "\n",
    "# fp_y = open_memmap(\n",
    "#         '{}/{}_y.npy'.format(out_path, type_data),\n",
    "#         dtype='float32',    \n",
    "#         mode='w+',\n",
    "#         shape=(data_x.shape[0], ))\n",
    "\n",
    "# fp_x[:] = data_x[:]\n",
    "# fp_y[:] = data_y[:]\n",
    "\n",
    "\n",
    "# # fp_x = h5py.File('{}/{}_y.hdf5'.format(out_path, type_data), 'w')\n",
    "# # dset = fp_x.create_dataset(\"default\", data=data_x)\n",
    "\n",
    "# # np.save('{}/{}_x.npy'.format(out_path, type_data), data_x)\n",
    "\n",
    "# print(\"--- %s seconds ---\" % (time.time() - start_time))\n",
    "\n",
    "# # print(type(fp_x))\n",
    "# # print(fp_x[200])\n",
    "# print(\"finish\")"
   ]
  },
  {
   "cell_type": "code",
   "execution_count": null,
   "metadata": {},
   "outputs": [],
   "source": [
    "# fp_x[371044]"
   ]
  },
  {
   "cell_type": "code",
   "execution_count": null,
   "metadata": {},
   "outputs": [],
   "source": [
    "# fp_x.base.resize( count_f * max_frame * number_column * 4 )\n",
    "# fp_x.flush()\n",
    "# # fp_x.reshape((count_f, max_frame, number_column))\n",
    "# # fp_x.flush()"
   ]
  },
  {
   "cell_type": "code",
   "execution_count": null,
   "metadata": {},
   "outputs": [],
   "source": [
    "# fp_x23 = fp_x2.reshape((count_f, max_frame, number_column))\n",
    "# print(fp_x23[0])"
   ]
  },
  {
   "cell_type": "code",
   "execution_count": null,
   "metadata": {},
   "outputs": [],
   "source": [
    "# fp_x2 = np.memmap('{}/{}_x.npy'.format(out_path, type_data), dtype='float32', mode='r')\n",
    "# # fp_x23 = fp_x2.reshape((count_f, max_frame, number_column))\n",
    "# # fp_x23 = np.load('{}/{}_x.npy'.format(out_path, type_data), mmap_mode='r')\n",
    "# print(fp_x2.shape)\n",
    "# # print(fp_x23[1])\n",
    "# print(fp_x2[829:850])"
   ]
  },
  {
   "cell_type": "code",
   "execution_count": null,
   "metadata": {},
   "outputs": [],
   "source": [
    "# result = np.where(fp_x2 == 0.1808482)\n",
    "# result"
   ]
  }
 ],
 "metadata": {
  "kernelspec": {
   "display_name": "Python 3",
   "language": "python",
   "name": "python3"
  },
  "language_info": {
   "codemirror_mode": {
    "name": "ipython",
    "version": 3
   },
   "file_extension": ".py",
   "mimetype": "text/x-python",
   "name": "python",
   "nbconvert_exporter": "python",
   "pygments_lexer": "ipython3",
   "version": "3.7.4"
  }
 },
 "nbformat": 4,
 "nbformat_minor": 2
}
