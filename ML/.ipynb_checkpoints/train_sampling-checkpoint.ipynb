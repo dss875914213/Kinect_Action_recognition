{
 "cells": [
  {
   "cell_type": "code",
   "execution_count": 1,
   "metadata": {},
   "outputs": [
    {
     "name": "stderr",
     "output_type": "stream",
     "text": [
      "Using TensorFlow backend.\n"
     ]
    }
   ],
   "source": [
    "from tensorflow.python.keras import Sequential\n",
    "from tensorflow.python.keras import regularizers\n",
    "from tensorflow.python.keras import optimizers\n",
    "from tensorflow.python.keras.layers import LSTM, CuDNNLSTM\n",
    "from tensorflow.python.keras.layers import Dense\n",
    "from tensorflow.python.keras.layers import Dropout\n",
    "from tensorflow.python.keras.utils import to_categorical\n",
    "from tensorflow.python.keras.callbacks import ModelCheckpoint\n",
    "import keras.metrics\n",
    "import numpy as np\n",
    "import pickle"
   ]
  },
  {
   "cell_type": "code",
   "execution_count": 2,
   "metadata": {},
   "outputs": [],
   "source": [
    "sequence_length = 15 # timestep"
   ]
  },
  {
   "cell_type": "code",
   "execution_count": 3,
   "metadata": {},
   "outputs": [],
   "source": [
    "path_save = \"F:\\Master Project\\Dataset\\Extract_Data\"\n",
    "f_x = open(path_save+\"/train_x.pickle\",'rb')\n",
    "f_y = open(path_save+\"/train_y.pickle\",'rb')\n",
    "origin_train_x = pickle.load(f_x)\n",
    "train_y = pickle.load(f_y)\n",
    "\n",
    "f_x = open(path_save+\"/test_x.pickle\",'rb')\n",
    "f_y = open(path_save+\"/test_y.pickle\",'rb')\n",
    "origin_test_x = pickle.load(f_x)\n",
    "test_y = pickle.load(f_y)"
   ]
  },
  {
   "cell_type": "code",
   "execution_count": 4,
   "metadata": {},
   "outputs": [
    {
     "name": "stdout",
     "output_type": "stream",
     "text": [
      "(66330, 75)\n",
      "7\n"
     ]
    }
   ],
   "source": [
    "print(origin_train_x[0].shape)\n",
    "print(len(origin_train_x))"
   ]
  },
  {
   "cell_type": "markdown",
   "metadata": {},
   "source": [
    "### Sampling Function"
   ]
  },
  {
   "cell_type": "code",
   "execution_count": null,
   "metadata": {},
   "outputs": [],
   "source": [
    "def sampling_x(x, is_training):\n",
    "    \n",
    "    frames = x\n",
    "    \n",
    "    random_sample_range = 3\n",
    "    # Start index and sample interval for the test set\n",
    "    start_i, sample_interval = 0, random_sample_range #len(frames) // sequence_length\n",
    "    if is_training:\n",
    "        # Randomly choose sample interval and start frame\n",
    "        sample_interval = np.random.randint(1, random_sample_range + 1)\n",
    "        start_i = np.random.randint(0, len(frames) - sample_interval * sequence_length + 1)\n",
    "\n",
    "    # Extract frames as tensors\n",
    "    image_sequence = []\n",
    "#     for i in range(start_i, len(frames), sample_interval):\n",
    "    end_i = sample_interval * sequence_length + start_i\n",
    "    for i in range(start_i, end_i, sample_interval)\n",
    "        # image_path = frames[i]\n",
    "        if len(image_sequence) < sequence_length:\n",
    "            image_sequence.append(frames[i])\n",
    "        else:\n",
    "            break\n",
    "    image_sequence = np.array(image_sequence)   \n",
    "    return image_sequence\n",
    "\n",
    "\n",
    "def reform_to_sequence(data_x, is_training):\n",
    "    \n",
    "    train_x = np.zeros((len(data_x), sequence_length, data_x[0].shape[-1]) ) #(len,timestep, 28)\n",
    "    for i,x in enumerate(data_x):\n",
    "        sequence = sampling_x(x, is_training)\n",
    "        train_x[i] = sequence       \n",
    "        \n",
    "    return train_x     \n"
   ]
  },
  {
   "cell_type": "markdown",
   "metadata": {},
   "source": [
    "### Model Define"
   ]
  },
  {
   "cell_type": "code",
   "execution_count": null,
   "metadata": {},
   "outputs": [],
   "source": [
    "number_feature = origin_train_x[0].shape[-1] # last index\n",
    "model = Sequential()\n",
    "model.add(CuDNNLSTM(50, input_shape=(sequence_length, number_feature),return_sequences=True))\n",
    "model.add(Dropout(0.6))#使用Dropout函数可以使模型有更多的机会学习到多种独立的表征\n",
    "model.add(CuDNNLSTM(50, input_shape=(sequence_length, number_feature)) )\n",
    "model.add(Dropout(0.6))\n",
    "model.add(Dense(4, activation='softmax'))\n",
    "sgd = optimizers.SGD(lr=0.1, momentum=0.0, decay=0.0, nesterov=False)\n",
    "model.compile(loss='sparse_categorical_crossentropy', optimizer='sgd', metrics=['accuracy'])\n",
    "filepath=\"weights-improvement-{epoch:02d}-{val_acc:.2f}.hdf5\"\n",
    "checkpoint = ModelCheckpoint(filepath, monitor='val_acc', verbose=1, save_best_only=True,)\n",
    "callbacks_list = [checkpoint]"
   ]
  },
  {
   "cell_type": "markdown",
   "metadata": {},
   "source": [
    "### Prepare Test Set"
   ]
  },
  {
   "cell_type": "code",
   "execution_count": null,
   "metadata": {},
   "outputs": [],
   "source": [
    "test_x = reform_to_sequence(origin_test_x, is_training=False)"
   ]
  },
  {
   "cell_type": "markdown",
   "metadata": {},
   "source": [
    "### Train"
   ]
  },
  {
   "cell_type": "code",
   "execution_count": null,
   "metadata": {},
   "outputs": [],
   "source": [
    "num_epoch = 100\n",
    "\n",
    "for i_ep in range(num_epoch):\n",
    "    \n",
    "    print('epoch: ', i_ep)\n",
    "    train_x = reform_to_sequence(origin_train_x, is_training=True)\n",
    "    model.fit(train_x, train_y, epochs=1,\n",
    "             validation_data=(test_x,test_y), callbacks=callbacks_list)\n",
    "    print(\"-----------------------\")\n",
    "\n"
   ]
  },
  {
   "cell_type": "code",
   "execution_count": null,
   "metadata": {},
   "outputs": [],
   "source": []
  }
 ],
 "metadata": {
  "kernelspec": {
   "display_name": "Python 3",
   "language": "python",
   "name": "python3"
  },
  "language_info": {
   "codemirror_mode": {
    "name": "ipython",
    "version": 3
   },
   "file_extension": ".py",
   "mimetype": "text/x-python",
   "name": "python",
   "nbconvert_exporter": "python",
   "pygments_lexer": "ipython3",
   "version": "3.7.4"
  }
 },
 "nbformat": 4,
 "nbformat_minor": 2
}
