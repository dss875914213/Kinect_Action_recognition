{
 "cells": [
  {
   "cell_type": "code",
   "execution_count": 70,
   "metadata": {},
   "outputs": [],
   "source": [
    "import h5py\n",
    "import numpy as np\n",
    "import re# 用于正则表达式的匹配操作，在问别人能解析、复杂字符串分析、信息提取是一个很有用的工具\n",
    "import os # os是python的系统编程的操作模块，可以处理文件和目录\n",
    "import pandas as pd #Pandas是Python下一个开源数据分析的\n",
    "import pickle"
   ]
  },
  {
   "cell_type": "code",
   "execution_count": 71,
   "metadata": {},
   "outputs": [],
   "source": [
    "number_joint = 25\n"
   ]
  },
  {
   "cell_type": "code",
   "execution_count": 72,
   "metadata": {},
   "outputs": [],
   "source": [
    "def read_one_file(file_name):\n",
    "    with open(file_name,'r',encoding='utf-8') as f:\n",
    "        data_line = f.readlines()\n",
    "        \n",
    "        data_temp = [] \n",
    "        index = 0\n",
    "        for j in data_line:\n",
    "            temp = re.findall(r\"-*\\d+\\.?\\d*\",j)\n",
    "            if temp != []:\n",
    "                if index % number_joint == 0:\n",
    "                    data_temp.append([float(k) for k in temp])\n",
    "                else:\n",
    "                    data_temp[-1].extend([float(k) for k in temp])\n",
    "                index += 1\n",
    "        \n",
    "        # delete row that some data loss\n",
    "        new_data = []\n",
    "        for m in range(len(data_temp)):\n",
    "            data_temp[m] = np.array(data_temp[m])\n",
    "            if(data_temp[m].size) == number_joint*3: #75 data per frame\n",
    "                new_data.append(data_temp[m])\n",
    "                \n",
    "        data_one_file = np.array(new_data)\n",
    "        return data_one_file"
   ]
  },
  {
   "cell_type": "code",
   "execution_count": 73,
   "metadata": {},
   "outputs": [],
   "source": [
    "def walk2(dirname):\n",
    "    list_ = []\n",
    "    for root, dirs, files in os.walk(dirname):\n",
    "        \n",
    "        for filename in files:\n",
    "            list_.append(os.path.join(root, filename))\n",
    "    return list_"
   ]
  },
  {
   "cell_type": "code",
   "execution_count": 74,
   "metadata": {},
   "outputs": [],
   "source": [
    "def create_dataset(type_data):\n",
    "    path = 'F:/Master Project/mentor/25 joint points data sets/'+type_data+'_set/' #\n",
    "    folder_list = ['拍球','投球','传球','其他动作']\n",
    "    foler_path_list = [(path + folder_name) for folder_name in folder_list]\n",
    "    \n",
    "    # loop all actions\n",
    "    x_data = []\n",
    "    y_data = []\n",
    "    \n",
    "    print(type_data)\n",
    "    for i,folder_path in enumerate(foler_path_list):\n",
    "        \n",
    "        list_file = walk2(folder_path) # recursion in that folder\n",
    "        print(\"  all file {:} : {:}\".format(folder_list[i],len(list_file)) )\n",
    "        \n",
    "        for j,file_name in enumerate(list_file):\n",
    "            data_one_file = read_one_file(file_name) # get numpy (frame, joint_num * joint_dimension)\n",
    "            x_data.append(data_one_file)\n",
    "            y_data.append(i)\n",
    "#             import pdb; pdb.set_trace()\n",
    "#             print(\"ddd\")\n",
    "            if j % 100 == 0:\n",
    "                print('    ',j)\n",
    "            \n",
    "    return x_data,y_data    \n",
    "    "
   ]
  },
  {
   "cell_type": "code",
   "execution_count": 75,
   "metadata": {},
   "outputs": [
    {
     "name": "stdout",
     "output_type": "stream",
     "text": [
      "train\n",
      "  all file 拍球 : 2\n",
      "     0\n",
      "  all file 投球 : 2\n",
      "     0\n",
      "  all file 传球 : 1\n",
      "     0\n",
      "  all file 其他动作 : 0\n",
      "test\n",
      "  all file 拍球 : 2\n",
      "     0\n",
      "  all file 投球 : 2\n",
      "     0\n",
      "  all file 传球 : 1\n",
      "     0\n",
      "  all file 其他动作 : 0\n",
      "finish!!\n"
     ]
    }
   ],
   "source": [
    "all_type_data = ['train'] #,'test'\n",
    "path_save = \"F:\\Master Project\\Dataset\\Extract_Data\"\n",
    "for type_data in all_type_data:\n",
    "    x_data,y_data = create_dataset(type_data)\n",
    "    \n",
    "    f_x = open(\"{:}/{:}_x.pickle\".format(path_save, type_data),'wb')\n",
    "    f_y = open(\"{:}/{:}_y.pickle\".format(path_save,type_data),'wb')\n",
    "    \n",
    "    pickle.dump(x_data,f_x)\n",
    "    pickle.dump(y_data,f_y)\n",
    "    \n",
    "    f_x.close()\n",
    "    f_y.close()\n",
    "\n",
    "print('finish!!')\n",
    "    \n",
    "#     with h5py.File(type_data+'.hdf5', 'w') as f:\n",
    "#         f.create_dataset('y_data', data=y_data)\n",
    "        \n",
    "#         group = f.create_group(\"x_data\")\n",
    "#         for i,data in enumerate(x_data):\n",
    "#             group.create_dataset(str(i), data=data)"
   ]
  },
  {
   "cell_type": "code",
   "execution_count": 76,
   "metadata": {},
   "outputs": [],
   "source": [
    "# tet = {0:np.array([1,2]), 1:np.array([3,4])}"
   ]
  },
  {
   "cell_type": "code",
   "execution_count": 77,
   "metadata": {},
   "outputs": [],
   "source": [
    "# with h5py.File(type_data+'.hdf5', 'w') as f:\n",
    "#         f.create_dataset('x_data', data=tet)\n",
    "#         f.create_dataset('y_data', data=[3,4]) "
   ]
  },
  {
   "cell_type": "code",
   "execution_count": 82,
   "metadata": {},
   "outputs": [
    {
     "ename": "EOFError",
     "evalue": "Ran out of input",
     "output_type": "error",
     "traceback": [
      "\u001b[1;31m---------------------------------------------------------------------------\u001b[0m",
      "\u001b[1;31mEOFError\u001b[0m                                  Traceback (most recent call last)",
      "\u001b[1;32m<ipython-input-82-8d0b4401073d>\u001b[0m in \u001b[0;36m<module>\u001b[1;34m()\u001b[0m\n\u001b[0;32m      3\u001b[0m \u001b[0mf_y\u001b[0m \u001b[1;33m=\u001b[0m \u001b[0mopen\u001b[0m\u001b[1;33m(\u001b[0m\u001b[1;34m\"{:}/{:}_y.pickle\"\u001b[0m\u001b[1;33m.\u001b[0m\u001b[0mformat\u001b[0m\u001b[1;33m(\u001b[0m\u001b[0mpath_save\u001b[0m\u001b[1;33m,\u001b[0m\u001b[0mtype_data\u001b[0m\u001b[1;33m)\u001b[0m\u001b[1;33m,\u001b[0m\u001b[1;34m'rb'\u001b[0m\u001b[1;33m)\u001b[0m\u001b[1;33m\u001b[0m\u001b[0m\n\u001b[0;32m      4\u001b[0m \u001b[1;33m\u001b[0m\u001b[0m\n\u001b[1;32m----> 5\u001b[1;33m \u001b[0mnew_dict\u001b[0m \u001b[1;33m=\u001b[0m \u001b[0mpickle\u001b[0m\u001b[1;33m.\u001b[0m\u001b[0mload\u001b[0m\u001b[1;33m(\u001b[0m\u001b[0mf_x\u001b[0m\u001b[1;33m)\u001b[0m\u001b[1;33m\u001b[0m\u001b[0m\n\u001b[0m\u001b[0;32m      6\u001b[0m \u001b[0mprint\u001b[0m\u001b[1;33m(\u001b[0m\u001b[0mlen\u001b[0m\u001b[1;33m(\u001b[0m\u001b[0mnew_dict\u001b[0m\u001b[1;33m)\u001b[0m\u001b[1;33m)\u001b[0m\u001b[1;33m\u001b[0m\u001b[0m\n",
      "\u001b[1;31mEOFError\u001b[0m: Ran out of input"
     ]
    }
   ],
   "source": [
    "type_data = 'train'\n",
    "f_x = open(\"{:}/{:}_x.pickle\".format(path_save, type_data),'rb')\n",
    "f_y = open(\"{:}/{:}_y.pickle\".format(path_save,type_data),'rb')\n",
    "\n",
    "new_dict = pickle.load(f_x)\n",
    "print(len(new_dict))"
   ]
  }
 ],
 "metadata": {
  "kernelspec": {
   "display_name": "Python 3",
   "language": "python",
   "name": "python3"
  },
  "language_info": {
   "codemirror_mode": {
    "name": "ipython",
    "version": 3
   },
   "file_extension": ".py",
   "mimetype": "text/x-python",
   "name": "python",
   "nbconvert_exporter": "python",
   "pygments_lexer": "ipython3",
   "version": "3.6.4"
  }
 },
 "nbformat": 4,
 "nbformat_minor": 2
}
