{
 "cells": [
  {
   "cell_type": "code",
   "execution_count": 19,
   "metadata": {},
   "outputs": [],
   "source": [
    "import h5py\n",
    "import numpy as np\n",
    "import re# 用于正则表达式的匹配操作，在问别人能解析、复杂字符串分析、信息提取是一个很有用的工具\n",
    "import os # os是python的系统编程的操作模块，可以处理文件和目录\n",
    "# import pandas as pd #Pandas是Python下一个开源数据分析的\n",
    "import pickle"
   ]
  },
  {
   "cell_type": "code",
   "execution_count": 20,
   "metadata": {},
   "outputs": [],
   "source": [
    "number_joint = 25\n"
   ]
  },
  {
   "cell_type": "markdown",
   "metadata": {},
   "source": [
    "### Read File"
   ]
  },
  {
   "cell_type": "code",
   "execution_count": 21,
   "metadata": {},
   "outputs": [],
   "source": [
    "def read_one_file(file_name):\n",
    "    with open(file_name,'r',encoding='utf-8') as f:\n",
    "        data_line = f.readlines()\n",
    "        \n",
    "        data_temp = [] \n",
    "        index = 0\n",
    "        for j in data_line:\n",
    "            temp = re.findall(r\"-*\\d+\\.?\\d*\",j)\n",
    "            if temp != []:\n",
    "                if index % number_joint == 0:\n",
    "                    data_temp.append([float(k) for k in temp])\n",
    "                else:\n",
    "                    data_temp[-1].extend([float(k) for k in temp])\n",
    "                index += 1\n",
    "        \n",
    "        # delete row that some data loss\n",
    "        new_data = []\n",
    "        for m in range(len(data_temp)):\n",
    "            data_temp[m] = np.array(data_temp[m])\n",
    "            if(data_temp[m].size) == number_joint*3: #75 data per frame\n",
    "                new_data.append(data_temp[m])\n",
    "                \n",
    "        data_one_file = np.array(new_data)\n",
    "        return data_one_file"
   ]
  },
  {
   "cell_type": "code",
   "execution_count": 22,
   "metadata": {},
   "outputs": [],
   "source": [
    "def walk2(dirname):\n",
    "    list_ = []\n",
    "    for root, dirs, files in os.walk(dirname):\n",
    "        \n",
    "        for filename in files:\n",
    "            list_.append(os.path.join(root, filename))\n",
    "    return list_"
   ]
  },
  {
   "cell_type": "markdown",
   "metadata": {},
   "source": [
    "### Create List of dataset"
   ]
  },
  {
   "cell_type": "code",
   "execution_count": 23,
   "metadata": {},
   "outputs": [],
   "source": [
    "def create_dataset(type_data):\n",
    "    path = \"F:/Master Project/Dataset/Original/25 joints/\" + type_data + '_set/' # path to dataset\n",
    "    folder_list = ['拍球','投球','传球','站立']\n",
    "    foler_path_list = [(path + folder_name) for folder_name in folder_list]\n",
    "    \n",
    "    # loop all actions\n",
    "    x_data = []\n",
    "    y_data = []\n",
    "    \n",
    "    print(type_data)\n",
    "    for i,folder_path in enumerate(foler_path_list):\n",
    "        \n",
    "        list_file = walk2(folder_path) # recursion in that folder\n",
    "        print(\"  all file {:} : {:}\".format(folder_list[i],len(list_file)) )\n",
    "        \n",
    "        for j,file_name in enumerate(list_file):\n",
    "            data_one_file = read_one_file(file_name) # get numpy (frame, joint_num * joint_dimension)\n",
    "            x_data.append(data_one_file)\n",
    "            y_data.append(i)\n",
    "#             import pdb; pdb.set_trace()\n",
    "            if j % 100 == 0:\n",
    "                print('    ',j)\n",
    "    \n",
    "    \n",
    "    # x_data - frame data : shape(num_of_file, all_frame, 75)\n",
    "    # y_data - label      : shap(num_of_file, 1)\n",
    "    return x_data,y_data    \n",
    "    "
   ]
  },
  {
   "cell_type": "markdown",
   "metadata": {},
   "source": [
    "## Main"
   ]
  },
  {
   "cell_type": "code",
   "execution_count": 24,
   "metadata": {},
   "outputs": [
    {
     "name": "stdout",
     "output_type": "stream",
     "text": [
      "train\n",
      "  all file 拍球 : 2\n",
      "     0\n",
      "  all file 投球 : 2\n",
      "     0\n",
      "  all file 传球 : 1\n",
      "     0\n",
      "  all file 站立 : 2\n",
      "     0\n",
      "test\n",
      "  all file 拍球 : 2\n",
      "     0\n",
      "  all file 投球 : 2\n",
      "     0\n",
      "  all file 传球 : 1\n",
      "     0\n",
      "  all file 站立 : 1\n",
      "     0\n",
      "finish!!\n"
     ]
    }
   ],
   "source": [
    "all_type_data = ['train','test']\n",
    "path_save = \"F:/Master Project/Dataset/Extract_Data/25 joints\"  # path to save extract data\n",
    "for type_data in all_type_data:\n",
    "    x_data,y_data = create_dataset(type_data)\n",
    "    \n",
    "    f_x = open(\"{:}/{:}_x.pickle\".format(path_save, type_data),'wb')\n",
    "    f_y = open(\"{:}/{:}_y.pickle\".format(path_save,type_data),'wb')\n",
    "    \n",
    "    pickle.dump(x_data,f_x)  # (num_of_file, all_frame, 75) - frame data\n",
    "    pickle.dump(y_data,f_y)  # (num_of_file, 1) - output\n",
    "     \n",
    "    f_x.close()\n",
    "    f_y.close()\n",
    "\n",
    "print('finish!!')    \n"
   ]
  },
  {
   "cell_type": "markdown",
   "metadata": {},
   "source": [
    "### Try to Read Data"
   ]
  },
  {
   "cell_type": "code",
   "execution_count": 27,
   "metadata": {},
   "outputs": [
    {
     "name": "stdout",
     "output_type": "stream",
     "text": [
      "7\n"
     ]
    },
    {
     "data": {
      "text/plain": [
       "[array([[ 0.1095592,  0.6192394,  2.444246 , ...,  0.3472608,  0.9519928,\n",
       "          2.0478   ],\n",
       "        [ 0.102564 ,  0.650144 ,  2.393369 , ...,  0.2485925,  0.7225186,\n",
       "          2.098333 ],\n",
       "        [ 0.1023067,  0.6507777,  2.391926 , ...,  0.2475204,  0.6752178,\n",
       "          2.138661 ],\n",
       "        ...,\n",
       "        [-0.2987332,  0.6199132,  1.187326 , ..., -0.5474258,  0.7283761,\n",
       "          0.5026948],\n",
       "        [-0.2987332,  0.6199132,  1.187326 , ..., -0.5474258,  0.7283761,\n",
       "          0.5026948],\n",
       "        [-0.2963319,  0.6187328,  1.18439  , ..., -0.5470924,  0.7283998,\n",
       "          0.502602 ]]),\n",
       " array([[0.06580608, 0.667106  , 2.016074  , ..., 0.3187989 , 0.6464936 ,\n",
       "         2.017867  ],\n",
       "        [0.06910063, 0.6679695 , 2.021472  , ..., 0.3352811 , 0.6417936 ,\n",
       "         2.013176  ],\n",
       "        [0.06910063, 0.6679695 , 2.021472  , ..., 0.3352811 , 0.6417936 ,\n",
       "         2.013176  ],\n",
       "        ...,\n",
       "        [0.7184041 , 0.3275616 , 1.247346  , ..., 0.5755335 , 0.9043441 ,\n",
       "         0.9346161 ],\n",
       "        [0.7184858 , 0.3274118 , 1.247489  , ..., 0.5756244 , 0.9043219 ,\n",
       "         0.9346792 ],\n",
       "        [0.7184858 , 0.3274118 , 1.247489  , ..., 0.5756244 , 0.9043219 ,\n",
       "         0.9346792 ]]),\n",
       " array([[-0.03812291,  0.7079371 ,  2.48913   , ...,  0.07291742,\n",
       "          1.28842   ,  1.882786  ],\n",
       "        [-0.02770442,  0.7645432 ,  2.451226  , ...,  0.07108896,\n",
       "          1.270108  ,  1.893     ],\n",
       "        [-0.02770442,  0.7645432 ,  2.451226  , ...,  0.07108896,\n",
       "          1.270108  ,  1.893     ],\n",
       "        ...,\n",
       "        [-0.4261761 ,  0.499666  ,  1.197165  , ..., -0.4930987 ,\n",
       "          0.8021029 ,  0.6853852 ],\n",
       "        [-0.4261761 ,  0.499666  ,  1.197165  , ..., -0.4930987 ,\n",
       "          0.8021029 ,  0.6853852 ],\n",
       "        [-0.4263631 ,  0.4993596 ,  1.196278  , ..., -0.4982298 ,\n",
       "          0.7886879 ,  0.6956996 ]]),\n",
       " array([[0.03262353, 0.6552106 , 2.22779   , ..., 0.1843472 , 0.8141791 ,\n",
       "         2.036926  ],\n",
       "        [0.0326136 , 0.654969  , 2.227726  , ..., 0.2217874 , 0.7865492 ,\n",
       "         2.055727  ],\n",
       "        [0.0326076 , 0.654969  , 2.227739  , ..., 0.2214951 , 0.7916678 ,\n",
       "         2.052877  ],\n",
       "        ...,\n",
       "        [0.6684946 , 0.1220907 , 1.305107  , ..., 0.6297664 , 0.3150749 ,\n",
       "         1.204856  ],\n",
       "        [0.6684946 , 0.1220907 , 1.305107  , ..., 0.6297664 , 0.3150749 ,\n",
       "         1.204856  ],\n",
       "        [0.6684946 , 0.1220907 , 1.305107  , ..., 0.6297664 , 0.3150749 ,\n",
       "         1.204856  ]]),\n",
       " array([[-0.01379898,  0.6499485 ,  2.007361  , ...,  0.1266691 ,\n",
       "          0.6824185 ,  1.896476  ],\n",
       "        [-0.01801363,  0.649508  ,  2.013613  , ...,  0.1188247 ,\n",
       "          0.676992  ,  1.908517  ],\n",
       "        [-0.01801363,  0.649508  ,  2.013613  , ...,  0.1188247 ,\n",
       "          0.676992  ,  1.908517  ],\n",
       "        ...,\n",
       "        [ 0.7620277 ,  0.1328899 ,  1.284635  , ...,  0.5363268 ,\n",
       "          0.7817526 ,  0.8800225 ],\n",
       "        [ 0.7620277 ,  0.1328899 ,  1.284635  , ...,  0.5363268 ,\n",
       "          0.7817526 ,  0.8800225 ],\n",
       "        [ 0.7620277 ,  0.1328899 ,  1.284635  , ...,  0.5363268 ,\n",
       "          0.7817526 ,  0.8800225 ]]),\n",
       " array([[-0.08854897,  0.6463336 ,  2.230005  , ...,  0.04921796,\n",
       "          0.6511459 ,  2.0555    ],\n",
       "        [-0.1146887 ,  0.65017   ,  2.160463  , ...,  0.05072269,\n",
       "          0.64985   ,  2.056936  ],\n",
       "        [-0.1139399 ,  0.6516072 ,  2.16137   , ...,  0.055044  ,\n",
       "          0.64583   ,  2.057646  ],\n",
       "        ...,\n",
       "        [ 0.3243424 ,  0.5053623 ,  0.6469384 , ...,  0.2623602 ,\n",
       "          0.9943803 ,  0.6352082 ],\n",
       "        [ 0.3243424 ,  0.5053623 ,  0.6469384 , ...,  0.2623602 ,\n",
       "          0.9943803 ,  0.6352082 ],\n",
       "        [ 0.3229663 ,  0.4617637 ,  0.6585527 , ...,  0.2733732 ,\n",
       "          1.02281   ,  0.6362413 ]]),\n",
       " array([[ 0.1318547,  0.639546 ,  2.719615 , ...,  0.2309926,  0.6571455,\n",
       "          2.467412 ],\n",
       "        [ 0.1331707,  0.6396462,  2.719625 , ...,  0.25918  ,  0.6433582,\n",
       "          2.490222 ],\n",
       "        [ 0.1331707,  0.6396462,  2.719625 , ...,  0.25918  ,  0.6433582,\n",
       "          2.490222 ],\n",
       "        ...,\n",
       "        [-0.1577293,  0.5915458,  1.343388 , ..., -0.518044 ,  0.7655272,\n",
       "          0.7837005],\n",
       "        [-0.1565794,  0.598069 ,  1.340045 , ..., -0.5185514,  0.7657322,\n",
       "          0.7807272],\n",
       "        [-0.159366 ,  0.6051863,  1.335934 , ..., -0.5152218,  0.7662337,\n",
       "          0.7678014]])]"
      ]
     },
     "execution_count": 27,
     "metadata": {},
     "output_type": "execute_result"
    }
   ],
   "source": [
    "type_data = 'train'\n",
    "f_x = open(\"{:}/{:}_x.pickle\".format(path_save, type_data),'rb')\n",
    "f_y = open(\"{:}/{:}_y.pickle\".format(path_save,type_data),'rb')\n",
    "\n",
    "new_dict = pickle.load(f_x)\n",
    "print(len(new_dict))\n",
    "new_dict"
   ]
  }
 ],
 "metadata": {
  "kernelspec": {
   "display_name": "Python 3",
   "language": "python",
   "name": "python3"
  },
  "language_info": {
   "codemirror_mode": {
    "name": "ipython",
    "version": 3
   },
   "file_extension": ".py",
   "mimetype": "text/x-python",
   "name": "python",
   "nbconvert_exporter": "python",
   "pygments_lexer": "ipython3",
   "version": "3.7.4"
  }
 },
 "nbformat": 4,
 "nbformat_minor": 2
}
