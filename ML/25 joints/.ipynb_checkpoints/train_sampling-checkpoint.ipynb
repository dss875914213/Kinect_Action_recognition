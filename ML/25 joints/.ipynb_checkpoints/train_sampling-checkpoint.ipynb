{
 "cells": [
  {
   "cell_type": "code",
   "execution_count": 12,
   "metadata": {},
   "outputs": [],
   "source": [
    "from tensorflow.python.keras import Sequential\n",
    "from tensorflow.python.keras import regularizers\n",
    "from tensorflow.python.keras import optimizers\n",
    "from tensorflow.python.keras.layers import LSTM, CuDNNLSTM\n",
    "from tensorflow.python.keras.layers import Dense\n",
    "from tensorflow.python.keras.layers import Dropout\n",
    "from tensorflow.python.keras.utils import to_categorical\n",
    "from tensorflow.python.keras.callbacks import ModelCheckpoint\n",
    "import keras.metrics\n",
    "import numpy as np\n",
    "import pickle"
   ]
  },
  {
   "cell_type": "code",
   "execution_count": 13,
   "metadata": {},
   "outputs": [],
   "source": [
    "sequence_length = 25 # timestep"
   ]
  },
  {
   "cell_type": "code",
   "execution_count": 14,
   "metadata": {},
   "outputs": [],
   "source": [
    "path_save = \"F:/Master Project/Dataset/Extract_Data/25 joints\"\n",
    "f_x = open(path_save+\"/train_x.pickle\",'rb')\n",
    "f_y = open(path_save+\"/train_y.pickle\",'rb')\n",
    "origin_train_x = pickle.load(f_x)\n",
    "origin_train_y = np.array(pickle.load(f_y))\n",
    "\n",
    "f_x = open(path_save+\"/test_x.pickle\",'rb')\n",
    "f_y = open(path_save+\"/test_y.pickle\",'rb')\n",
    "origin_test_x = pickle.load(f_x)\n",
    "origin_test_y = np.array(pickle.load(f_y))"
   ]
  },
  {
   "cell_type": "code",
   "execution_count": 15,
   "metadata": {},
   "outputs": [
    {
     "name": "stdout",
     "output_type": "stream",
     "text": [
      "(66330, 75)\n",
      "6\n"
     ]
    }
   ],
   "source": [
    "print(origin_train_x[0].shape)\n",
    "print(len(origin_test_x))"
   ]
  },
  {
   "cell_type": "markdown",
   "metadata": {},
   "source": [
    "### Sampling Function"
   ]
  },
  {
   "cell_type": "code",
   "execution_count": 16,
   "metadata": {},
   "outputs": [],
   "source": [
    "def sampling_x(x):\n",
    "    \n",
    "    frames = x\n",
    "    \n",
    "    random_sample_range = 3 # sampling value is not more than 3\n",
    "\n",
    "    # Randomly choose sample interval and start frame\n",
    "    sample_interval = np.random.randint(1, random_sample_range + 1)\n",
    "\n",
    "    start_i = np.random.randint(0, len(frames) - sample_interval * sequence_length + 1)\n",
    "\n",
    "    # Extract frames as tensors\n",
    "    image_sequence = []\n",
    "    end_i = sample_interval * sequence_length + start_i\n",
    "    for i in range(start_i, end_i, sample_interval):\n",
    "        # image_path = frames[i]\n",
    "        if len(image_sequence) < sequence_length:\n",
    "            image_sequence.append(frames[i])\n",
    "        else:\n",
    "            break\n",
    "    image_sequence = np.array(image_sequence)   \n",
    "    return image_sequence\n",
    "\n",
    "# Use for sampling and reforming data for sending to ML model\n",
    "def reform_to_sequence(data_x, data_y, is_training):\n",
    "    \n",
    "    if is_training:\n",
    "        random_time = 20000\n",
    "        output_x = np.zeros((len(data_x)*random_time, sequence_length, data_x[0].shape[-1]) ) #(len,timestep, 28)\n",
    "        \n",
    "    else:        \n",
    "        random_time = 10000\n",
    "        output_x = np.zeros((len(data_x)*random_time, sequence_length, data_x[0].shape[-1]) ) #(len*random_time,timestep, 28)\n",
    "    \n",
    "    count = 0\n",
    "    output_y = np.arange( len(data_y)*random_time ) # create array\n",
    "    \n",
    "    # sampling window-data in random_time time\n",
    "    for n_time in range(random_time):\n",
    "        for i,x in enumerate(data_x):\n",
    "            sequence = sampling_x(x)\n",
    "            output_x[count] = sequence\n",
    "            output_y[count] = data_y[i]\n",
    "            count += 1\n",
    "    \n",
    "    # output_x - x_data   : shape(num_of_file * random_time, sequence_length, 75)\n",
    "    # output_y - y_data   : shape(num_of_file * random_time, sequence_length, 75)\n",
    "    return output_x, output_y     \n"
   ]
  },
  {
   "cell_type": "markdown",
   "metadata": {},
   "source": [
    "### Model Define"
   ]
  },
  {
   "cell_type": "code",
   "execution_count": 17,
   "metadata": {},
   "outputs": [],
   "source": [
    "number_feature = origin_train_x[0].shape[-1] # last index\n",
    "model = Sequential()\n",
    "model.add(CuDNNLSTM(50, input_shape=(sequence_length, number_feature),return_sequences=False))\n",
    "model.add(Dropout(0.4))#使用Dropout函数可以使模型有更多的机会学习到多种独立的表征\n",
    "model.add(Dense(60) )\n",
    "model.add(Dropout(0.4))\n",
    "model.add(Dense(4, activation='softmax'))\n",
    "sgd = optimizers.SGD(lr=0.1, momentum=0.0, decay=0.0, nesterov=False)\n",
    "model.compile(loss='sparse_categorical_crossentropy', optimizer='sgd', metrics=['accuracy'])\n",
    "filepath=\"weight-sampling-{epoch:02d}-{val_accuracy:.2f}.hdf5\"\n",
    "checkpoint = ModelCheckpoint(filepath, monitor='val_accuracy', verbose=1, save_best_only=True,)\n",
    "callbacks_list = [checkpoint]"
   ]
  },
  {
   "cell_type": "markdown",
   "metadata": {},
   "source": [
    "### Prepare Test Set"
   ]
  },
  {
   "cell_type": "code",
   "execution_count": 18,
   "metadata": {},
   "outputs": [],
   "source": [
    "test_x, test_y  = reform_to_sequence(origin_test_x, origin_test_y, is_training=False)"
   ]
  },
  {
   "cell_type": "code",
   "execution_count": 19,
   "metadata": {},
   "outputs": [
    {
     "data": {
      "text/plain": [
       "60000"
      ]
     },
     "execution_count": 19,
     "metadata": {},
     "output_type": "execute_result"
    }
   ],
   "source": [
    "len(test_x)"
   ]
  },
  {
   "cell_type": "code",
   "execution_count": 20,
   "metadata": {},
   "outputs": [],
   "source": [
    "# train_x, train_y = reform_to_sequence(origin_train_x, origin_train_y, is_training=True)"
   ]
  },
  {
   "cell_type": "code",
   "execution_count": 21,
   "metadata": {},
   "outputs": [],
   "source": [
    "# train_y.shape"
   ]
  },
  {
   "cell_type": "markdown",
   "metadata": {},
   "source": [
    "### Train"
   ]
  },
  {
   "cell_type": "code",
   "execution_count": null,
   "metadata": {},
   "outputs": [
    {
     "name": "stdout",
     "output_type": "stream",
     "text": [
      "epoch:  0\n",
      "Train on 140000 samples, validate on 60000 samples\n",
      "139776/140000 [============================>.] - ETA: 0s - loss: 0.8098 - accuracy: 0.6817\n",
      "Epoch 00001: val_accuracy improved from -inf to 0.80487, saving model to weight-sampling-01-0.80.hdf5\n",
      "140000/140000 [==============================] - 158s 1ms/sample - loss: 0.8095 - accuracy: 0.6818 - val_loss: 0.4664 - val_accuracy: 0.8049\n",
      "-----------------------\n",
      "epoch:  1\n",
      "Train on 140000 samples, validate on 60000 samples\n",
      "139872/140000 [============================>.] - ETA: 0s - loss: 0.4657 - accuracy: 0.8398\n",
      "Epoch 00001: val_accuracy improved from 0.80487 to 0.89990, saving model to weight-sampling-01-0.90.hdf5\n",
      "140000/140000 [==============================] - 64s 460us/sample - loss: 0.4654 - accuracy: 0.8400 - val_loss: 0.2665 - val_accuracy: 0.8999\n",
      "-----------------------\n",
      "epoch:  2\n",
      "Train on 140000 samples, validate on 60000 samples\n",
      "139968/140000 [============================>.] - ETA: 0s - loss: 0.2980 - accuracy: 0.9004\n",
      "Epoch 00001: val_accuracy did not improve from 0.89990\n",
      "140000/140000 [==============================] - 79s 568us/sample - loss: 0.2980 - accuracy: 0.9004 - val_loss: 0.3034 - val_accuracy: 0.8839\n",
      "-----------------------\n",
      "epoch:  3\n",
      "Train on 140000 samples, validate on 60000 samples\n",
      "139968/140000 [============================>.] - ETA: 0s - loss: 0.2273 - accuracy: 0.9218\n",
      "Epoch 00001: val_accuracy did not improve from 0.89990\n",
      "140000/140000 [==============================] - 91s 649us/sample - loss: 0.2273 - accuracy: 0.9218 - val_loss: 0.3236 - val_accuracy: 0.8924\n",
      "-----------------------\n",
      "epoch:  4\n"
     ]
    }
   ],
   "source": [
    "num_epoch = 100\n",
    "\n",
    "for i_ep in range(num_epoch):\n",
    "    \n",
    "    print('epoch: ', i_ep)\n",
    "    train_x, train_y = reform_to_sequence(origin_train_x, origin_train_y, is_training=True)\n",
    "    model.fit(train_x, train_y, epochs=1,\n",
    "             validation_data=(test_x,test_y), callbacks=callbacks_list)\n",
    "    print(\"-----------------------\")\n",
    "\n"
   ]
  },
  {
   "cell_type": "code",
   "execution_count": null,
   "metadata": {},
   "outputs": [],
   "source": []
  }
 ],
 "metadata": {
  "kernelspec": {
   "display_name": "Python 3",
   "language": "python",
   "name": "python3"
  },
  "language_info": {
   "codemirror_mode": {
    "name": "ipython",
    "version": 3
   },
   "file_extension": ".py",
   "mimetype": "text/x-python",
   "name": "python",
   "nbconvert_exporter": "python",
   "pygments_lexer": "ipython3",
   "version": "3.7.4"
  }
 },
 "nbformat": 4,
 "nbformat_minor": 2
}
