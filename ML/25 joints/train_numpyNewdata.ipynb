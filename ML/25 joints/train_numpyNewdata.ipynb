{
 "cells": [
  {
   "cell_type": "code",
   "execution_count": 3,
   "metadata": {},
   "outputs": [],
   "source": [
    "# from sklearn.model_selection import train_test_split\n",
    "from tensorflow.python.keras import Sequential\n",
    "from tensorflow.python.keras import regularizers\n",
    "from tensorflow.python.keras import optimizers\n",
    "from tensorflow.python.keras.layers import LSTM, CuDNNLSTM\n",
    "from tensorflow.python.keras.layers import Dense\n",
    "from tensorflow.python.keras.layers import Dropout\n",
    "from tensorflow.python.keras.utils import to_categorical\n",
    "from tensorflow.python.keras.callbacks import ModelCheckpoint\n",
    "import tensorflow as tf\n",
    "import numpy as np\n",
    "import keras \n",
    "from numpy.lib.format import open_memmap"
   ]
  },
  {
   "cell_type": "code",
   "execution_count": 4,
   "metadata": {},
   "outputs": [],
   "source": [
    "# sess = tf.Session(config=tf.ConfigProto(log_device_placement=True))\n",
    "# keras.backend.set_session(sess)"
   ]
  },
  {
   "cell_type": "code",
   "execution_count": 5,
   "metadata": {},
   "outputs": [
    {
     "name": "stdout",
     "output_type": "stream",
     "text": [
      "(912031, 20, 75)\n"
     ]
    }
   ],
   "source": [
    "path_data = 'F:/Master Project/Dataset/Extract_data/25 joints/'\n",
    "train_X = np.load(path_data+'train_x.npy', mmap_mode='r')\n",
    "train_Y = np.load(path_data+'train_y.npy', mmap_mode='r')\n",
    "print(train_X.shape)"
   ]
  },
  {
   "cell_type": "code",
   "execution_count": 6,
   "metadata": {},
   "outputs": [],
   "source": [
    "# train_X[100][10]"
   ]
  },
  {
   "cell_type": "code",
   "execution_count": 7,
   "metadata": {},
   "outputs": [
    {
     "name": "stdout",
     "output_type": "stream",
     "text": [
      "(371045, 20, 75)\n"
     ]
    }
   ],
   "source": [
    "test_X = np.load(path_data+'test_x.npy', mmap_mode='r')\n",
    "test_Y = np.load(path_data+'test_y.npy', mmap_mode='r')\n",
    "print(test_X.shape)"
   ]
  },
  {
   "cell_type": "code",
   "execution_count": 8,
   "metadata": {},
   "outputs": [],
   "source": [
    "def create_model(num_frame, num_joint, num_output):\n",
    "    model = Sequential()\n",
    "    model.add(CuDNNLSTM(50, input_shape=(num_frame, num_joint),return_sequences=False))\n",
    "    model.add(Dropout(0.4))#使用Dropout函数可以使模型有更多的机会学习到多种独立的表征\n",
    "#     model.add(CuDNNLSTM(50, input_shape=(num_frame, num_joint)))\n",
    "    model.add(Dense(64))\n",
    "    model.add(Dropout(0.4))\n",
    "    model.add(Dense(num_output, activation='softmax'))\n",
    "    return model"
   ]
  },
  {
   "cell_type": "code",
   "execution_count": 9,
   "metadata": {},
   "outputs": [],
   "source": [
    "load_model = False\n",
    "max_frame = test_X.shape[1]\n",
    "number_column = test_X.shape[2]\n",
    "model = create_model(max_frame, number_column, 4)\n",
    "start_epoch = 0\n",
    "\n",
    "if load_model:\n",
    "    weights_path = 'weights-improvement-04-0.75.hdf5'\n",
    "    \n",
    "    model.load_weights(weights_path)\n",
    "\n",
    "sgd = optimizers.SGD(lr=0.1, momentum=0.0, decay=0.0, nesterov=False)\n",
    "model.compile(loss='sparse_categorical_crossentropy', optimizer='sgd', metrics=['accuracy'])    \n",
    "filepath=\"weights-improvement-{epoch:02d}-{val_accuracy:.2f}.hdf5\"\n",
    "checkpoint = ModelCheckpoint(filepath, monitor='val_accuracy', verbose=1, save_best_only=False, )\n",
    "callbacks_list = [checkpoint]"
   ]
  },
  {
   "cell_type": "code",
   "execution_count": null,
   "metadata": {},
   "outputs": [],
   "source": []
  },
  {
   "cell_type": "code",
   "execution_count": null,
   "metadata": {
    "scrolled": true
   },
   "outputs": [
    {
     "name": "stdout",
     "output_type": "stream",
     "text": [
      "Train on 912031 samples, validate on 371045 samples\n",
      "Epoch 1/2\n",
      "912000/912031 [============================>.] - ETA: 0s - loss: 0.4680 - accuracy: 0.8131\n",
      "Epoch 00001: saving model to weights-improvement-01-0.86.hdf5\n",
      "912031/912031 [==============================] - 5059s 6ms/sample - loss: 0.4680 - accuracy: 0.8131 - val_loss: 0.3780 - val_accuracy: 0.8579\n",
      "Epoch 2/2\n",
      " 24448/912031 [..............................] - ETA: 1:00:10 - loss: 0.2371 - accuracy: 0.9204"
     ]
    }
   ],
   "source": [
    "history = model.fit(train_X, train_Y, epochs=2,\n",
    "          validation_data=(test_X,test_Y) , callbacks=callbacks_list, initial_epoch=start_epoch)"
   ]
  },
  {
   "cell_type": "code",
   "execution_count": null,
   "metadata": {},
   "outputs": [],
   "source": [
    "history.history"
   ]
  }
 ],
 "metadata": {
  "kernelspec": {
   "display_name": "Python 3",
   "language": "python",
   "name": "python3"
  },
  "language_info": {
   "codemirror_mode": {
    "name": "ipython",
    "version": 3
   },
   "file_extension": ".py",
   "mimetype": "text/x-python",
   "name": "python",
   "nbconvert_exporter": "python",
   "pygments_lexer": "ipython3",
   "version": "3.7.4"
  }
 },
 "nbformat": 4,
 "nbformat_minor": 2
}
